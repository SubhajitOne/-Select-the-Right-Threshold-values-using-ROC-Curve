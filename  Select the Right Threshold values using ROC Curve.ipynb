{
 "cells": [
  {
   "cell_type": "code",
   "execution_count": 1,
   "metadata": {},
   "outputs": [],
   "source": [
    "import numpy as np\n",
    "import pandas as pd\n",
    "import matplotlib.pyplot as plt\n",
    "import seaborn as sns"
   ]
  },
  {
   "cell_type": "code",
   "execution_count": 2,
   "metadata": {},
   "outputs": [],
   "source": [
    "from sklearn.datasets import make_classification"
   ]
  },
  {
   "cell_type": "code",
   "execution_count": 3,
   "metadata": {},
   "outputs": [],
   "source": [
    "X,y = make_classification(n_samples=200,n_features=20,n_classes=2,weights=[1,1],random_state=1)"
   ]
  },
  {
   "cell_type": "code",
   "execution_count": 4,
   "metadata": {},
   "outputs": [
    {
     "data": {
      "text/plain": [
       "(array([ 99.,   0.,   0.,   0.,   0.,   0.,   0.,   0.,   0., 101.]),\n",
       " array([0. , 0.1, 0.2, 0.3, 0.4, 0.5, 0.6, 0.7, 0.8, 0.9, 1. ]),\n",
       " <a list of 10 Patch objects>)"
      ]
     },
     "execution_count": 4,
     "metadata": {},
     "output_type": "execute_result"
    },
    {
     "data": {
      "image/png": "[encoded data removed]",
      "text/plain": [
       "<Figure size 432x288 with 1 Axes>"
      ]
     },
     "metadata": {
      "needs_background": "light"
     },
     "output_type": "display_data"
    }
   ],
   "source": [
    "plt.hist(y)"
   ]
  },
  {
   "cell_type": "code",
   "execution_count": 5,
   "metadata": {},
   "outputs": [
    {
     "data": {
      "text/plain": [
       "(200, 20)"
      ]
     },
     "execution_count": 5,
     "metadata": {},
     "output_type": "execute_result"
    }
   ],
   "source": [
    "X.shape"
   ]
  },
  {
   "cell_type": "code",
   "execution_count": 6,
   "metadata": {},
   "outputs": [
    {
     "data": {
      "text/plain": [
       "(200,)"
      ]
     },
     "execution_count": 6,
     "metadata": {},
     "output_type": "execute_result"
    }
   ],
   "source": [
    "y.shape"
   ]
  },
  {
   "cell_type": "code",
   "execution_count": 7,
   "metadata": {},
   "outputs": [],
   "source": [
    "from sklearn.model_selection import train_test_split"
   ]
  },
  {
   "cell_type": "code",
   "execution_count": 8,
   "metadata": {},
   "outputs": [],
   "source": [
    "X_train,X_test,y_train,y_test = train_test_split(X,y,test_size=0.3, random_state=1)"
   ]
  },
  {
   "cell_type": "code",
   "execution_count": 11,
   "metadata": {},
   "outputs": [],
   "source": [
    "from sklearn.metrics import roc_curve,roc_auc_score"
   ]
  },
  {
   "cell_type": "markdown",
   "metadata": {},
   "source": [
    "##  Random Forest"
   ]
  },
  {
   "cell_type": "code",
   "execution_count": 9,
   "metadata": {},
   "outputs": [],
   "source": [
    "from sklearn.ensemble import RandomForestClassifier"
   ]
  },
  {
   "cell_type": "code",
   "execution_count": 12,
   "metadata": {},
   "outputs": [
    {
     "name": "stdout",
     "output_type": "stream",
     "text": [
      "1.0\n",
      "0.9326923076923077\n"
     ]
    }
   ],
   "source": [
    "rf = RandomForestClassifier()\n",
    "rf.fit(X_train,y_train)\n",
    "y_train_predict = rf.predict_proba(X_train)\n",
    "print(roc_auc_score(y_train,y_train_predict[:,1]))\n",
    "y_test_predict = rf.predict_proba(X_test)\n",
    "print(roc_auc_score(y_test,y_test_predict[:,1]))"
   ]
  },
  {
   "cell_type": "code",
   "execution_count": 14,
   "metadata": {},
   "outputs": [],
   "source": [
    "t = rf.predict(X_train)"
   ]
  },
  {
   "cell_type": "code",
   "execution_count": 15,
   "metadata": {},
   "outputs": [],
   "source": [
    "a = zip(y_train_predict,t)"
   ]
  },
  {
   "cell_type": "code",
   "execution_count": 17,
   "metadata": {},
   "outputs": [
    {
     "name": "stdout",
     "output_type": "stream",
     "text": [
      "(array([0.08, 0.92]), 1)\n",
      "(array([0.05, 0.95]), 1)\n",
      "(array([0., 1.]), 1)\n",
      "(array([0.07, 0.93]), 1)\n",
      "(array([0., 1.]), 1)\n",
      "(array([0.15, 0.85]), 1)\n",
      "(array([1., 0.]), 0)\n",
      "(array([0.97, 0.03]), 0)\n",
      "(array([0.92, 0.08]), 0)\n",
      "(array([0.95, 0.05]), 0)\n",
      "(array([0., 1.]), 1)\n",
      "(array([0.05, 0.95]), 1)\n",
      "(array([0.95, 0.05]), 0)\n",
      "(array([0.02, 0.98]), 1)\n",
      "(array([0.17, 0.83]), 1)\n",
      "(array([0.99, 0.01]), 0)\n",
      "(array([0.9, 0.1]), 0)\n",
      "(array([0.08, 0.92]), 1)\n",
      "(array([0.02, 0.98]), 1)\n",
      "(array([0.08, 0.92]), 1)\n",
      "(array([0.09, 0.91]), 1)\n",
      "(array([0.1, 0.9]), 1)\n",
      "(array([0.98, 0.02]), 0)\n",
      "(array([0.96, 0.04]), 0)\n",
      "(array([0.98, 0.02]), 0)\n",
      "(array([0.07, 0.93]), 1)\n",
      "(array([0.96, 0.04]), 0)\n",
      "(array([0.02, 0.98]), 1)\n",
      "(array([0.9, 0.1]), 0)\n",
      "(array([0.02, 0.98]), 1)\n",
      "(array([0.04, 0.96]), 1)\n",
      "(array([0.03, 0.97]), 1)\n",
      "(array([0.96, 0.04]), 0)\n",
      "(array([0.05, 0.95]), 1)\n",
      "(array([0.97, 0.03]), 0)\n",
      "(array([0.02, 0.98]), 1)\n",
      "(array([0.93, 0.07]), 0)\n",
      "(array([0.01, 0.99]), 1)\n",
      "(array([0.9, 0.1]), 0)\n",
      "(array([0.1, 0.9]), 1)\n",
      "(array([0.02, 0.98]), 1)\n",
      "(array([0.93, 0.07]), 0)\n",
      "(array([0.95, 0.05]), 0)\n",
      "(array([0.97, 0.03]), 0)\n",
      "(array([0.06, 0.94]), 1)\n",
      "(array([0.14, 0.86]), 1)\n",
      "(array([0.96, 0.04]), 0)\n",
      "(array([0.18, 0.82]), 1)\n",
      "(array([0.89, 0.11]), 0)\n",
      "(array([0.08, 0.92]), 1)\n",
      "(array([0.05, 0.95]), 1)\n",
      "(array([0.07, 0.93]), 1)\n",
      "(array([0.96, 0.04]), 0)\n",
      "(array([0.9, 0.1]), 0)\n",
      "(array([0.06, 0.94]), 1)\n",
      "(array([0.99, 0.01]), 0)\n",
      "(array([0.87, 0.13]), 0)\n",
      "(array([0.11, 0.89]), 1)\n",
      "(array([0.14, 0.86]), 1)\n",
      "(array([0.04, 0.96]), 1)\n",
      "(array([0.01, 0.99]), 1)\n",
      "(array([0.82, 0.18]), 0)\n",
      "(array([0.94, 0.06]), 0)\n",
      "(array([0.01, 0.99]), 1)\n",
      "(array([0.97, 0.03]), 0)\n",
      "(array([0.03, 0.97]), 1)\n",
      "(array([0.03, 0.97]), 1)\n",
      "(array([0.94, 0.06]), 0)\n",
      "(array([0.04, 0.96]), 1)\n",
      "(array([0.89, 0.11]), 0)\n",
      "(array([0.95, 0.05]), 0)\n",
      "(array([0.98, 0.02]), 0)\n",
      "(array([0.86, 0.14]), 0)\n",
      "(array([0.36, 0.64]), 1)\n",
      "(array([0.07, 0.93]), 1)\n",
      "(array([0., 1.]), 1)\n",
      "(array([0., 1.]), 1)\n",
      "(array([0.95, 0.05]), 0)\n",
      "(array([0.99, 0.01]), 0)\n",
      "(array([0.13, 0.87]), 1)\n",
      "(array([0.87, 0.13]), 0)\n",
      "(array([0.03, 0.97]), 1)\n",
      "(array([0.99, 0.01]), 0)\n",
      "(array([0.97, 0.03]), 0)\n",
      "(array([0.98, 0.02]), 0)\n",
      "(array([0.02, 0.98]), 1)\n",
      "(array([0.1, 0.9]), 1)\n",
      "(array([0.72, 0.28]), 0)\n",
      "(array([0.96, 0.04]), 0)\n",
      "(array([0.21, 0.79]), 1)\n",
      "(array([0.08, 0.92]), 1)\n",
      "(array([0.96, 0.04]), 0)\n",
      "(array([0.03, 0.97]), 1)\n",
      "(array([0., 1.]), 1)\n",
      "(array([0.91, 0.09]), 0)\n",
      "(array([0.92, 0.08]), 0)\n",
      "(array([0.59, 0.41]), 0)\n",
      "(array([0.06, 0.94]), 1)\n",
      "(array([0., 1.]), 1)\n",
      "(array([0.05, 0.95]), 1)\n",
      "(array([0.95, 0.05]), 0)\n",
      "(array([0.97, 0.03]), 0)\n",
      "(array([0.11, 0.89]), 1)\n",
      "(array([0.04, 0.96]), 1)\n",
      "(array([0.08, 0.92]), 1)\n",
      "(array([0.95, 0.05]), 0)\n",
      "(array([0.01, 0.99]), 1)\n",
      "(array([0.15, 0.85]), 1)\n",
      "(array([0.9, 0.1]), 0)\n",
      "(array([0.06, 0.94]), 1)\n",
      "(array([0.91, 0.09]), 0)\n",
      "(array([0.69, 0.31]), 0)\n",
      "(array([0.99, 0.01]), 0)\n",
      "(array([1., 0.]), 0)\n",
      "(array([0.62, 0.38]), 0)\n",
      "(array([0.98, 0.02]), 0)\n",
      "(array([0.03, 0.97]), 1)\n",
      "(array([0.05, 0.95]), 1)\n",
      "(array([0., 1.]), 1)\n",
      "(array([0.96, 0.04]), 0)\n",
      "(array([0.02, 0.98]), 1)\n",
      "(array([0.06, 0.94]), 1)\n",
      "(array([0.05, 0.95]), 1)\n",
      "(array([0.97, 0.03]), 0)\n",
      "(array([0.85, 0.15]), 0)\n",
      "(array([0.95, 0.05]), 0)\n",
      "(array([0.91, 0.09]), 0)\n",
      "(array([0.91, 0.09]), 0)\n",
      "(array([0.06, 0.94]), 1)\n",
      "(array([0.02, 0.98]), 1)\n",
      "(array([0.09, 0.91]), 1)\n",
      "(array([0.06, 0.94]), 1)\n",
      "(array([0.94, 0.06]), 0)\n",
      "(array([0.89, 0.11]), 0)\n",
      "(array([0.88, 0.12]), 0)\n",
      "(array([0.01, 0.99]), 1)\n",
      "(array([0.07, 0.93]), 1)\n",
      "(array([0.05, 0.95]), 1)\n",
      "(array([0.86, 0.14]), 0)\n",
      "(array([0.13, 0.87]), 1)\n"
     ]
    }
   ],
   "source": [
    "for i in a:\n",
    "    print(i)"
   ]
  },
  {
   "cell_type": "markdown",
   "metadata": {},
   "source": [
    "## Logistic Regression"
   ]
  },
  {
   "cell_type": "code",
   "execution_count": 18,
   "metadata": {},
   "outputs": [],
   "source": [
    "from sklearn.linear_model import LogisticRegression"
   ]
  },
  {
   "cell_type": "code",
   "execution_count": 19,
   "metadata": {},
   "outputs": [
    {
     "name": "stdout",
     "output_type": "stream",
     "text": [
      "0.9844102564102564\n",
      "0.9581447963800904\n"
     ]
    }
   ],
   "source": [
    "lg = LogisticRegression()\n",
    "lg.fit(X_train,y_train)\n",
    "y_train_predict = lg.predict_proba(X_train)\n",
    "print(roc_auc_score(y_train,y_train_predict[:,1]))\n",
    "y_test_predict = lg.predict_proba(X_test)\n",
    "print(roc_auc_score(y_test,y_test_predict[:,1]))"
   ]
  },
  {
   "cell_type": "markdown",
   "metadata": {},
   "source": [
    "## Adaboost Classifier"
   ]
  },
  {
   "cell_type": "code",
   "execution_count": 20,
   "metadata": {},
   "outputs": [],
   "source": [
    "from sklearn.ensemble import AdaBoostClassifier"
   ]
  },
  {
   "cell_type": "code",
   "execution_count": 21,
   "metadata": {},
   "outputs": [
    {
     "name": "stdout",
     "output_type": "stream",
     "text": [
      "1.0\n",
      "0.9751131221719458\n"
     ]
    }
   ],
   "source": [
    "ad = AdaBoostClassifier()\n",
    "ad.fit(X_train,y_train)\n",
    "y_train_predict = ad.predict_proba(X_train)\n",
    "print(roc_auc_score(y_train,y_train_predict[:,1]))\n",
    "y_test_predict = ad.predict_proba(X_test)\n",
    "print(roc_auc_score(y_test,y_test_predict[:,1]))"
   ]
  },
  {
   "cell_type": "markdown",
   "metadata": {},
   "source": [
    "## KNN Classifier"
   ]
  },
  {
   "cell_type": "code",
   "execution_count": 22,
   "metadata": {},
   "outputs": [],
   "source": [
    "from sklearn.neighbors import KNeighborsClassifier"
   ]
  },
  {
   "cell_type": "code",
   "execution_count": 23,
   "metadata": {},
   "outputs": [
    {
     "name": "stdout",
     "output_type": "stream",
     "text": [
      "0.9751794871794872\n",
      "0.8574660633484162\n"
     ]
    }
   ],
   "source": [
    "kn = KNeighborsClassifier()\n",
    "kn.fit(X_train,y_train)\n",
    "y_train_predict = kn.predict_proba(X_train)\n",
    "print(roc_auc_score(y_train,y_train_predict[:,1]))\n",
    "y_test_predict = kn.predict_proba(X_test)\n",
    "print(roc_auc_score(y_test,y_test_predict[:,1]))"
   ]
  },
  {
   "cell_type": "code",
   "execution_count": 24,
   "metadata": {},
   "outputs": [],
   "source": [
    "pred = []\n",
    "for model in [rf,lg,ad,kn]:\n",
    "    pred.append(pd.Series(model.predict_proba(X_test)[:,1]))"
   ]
  },
  {
   "cell_type": "code",
   "execution_count": 25,
   "metadata": {},
   "outputs": [],
   "source": [
    "p = pd.DataFrame(pred,index=['RandomForest','LogisticRegression','Adaboost','KNN'])"
   ]
  },
  {
   "cell_type": "code",
   "execution_count": 26,
   "metadata": {},
   "outputs": [
    {
     "data": {
      "text/html": [
       "<div>\n",
       "<style scoped>\n",
       "    .dataframe tbody tr th:only-of-type {\n",
       "        vertical-align: middle;\n",
       "    }\n",
       "\n",
       "    .dataframe tbody tr th {\n",
       "        vertical-align: top;\n",
       "    }\n",
       "\n",
       "    .dataframe thead th {\n",
       "        text-align: right;\n",
       "    }\n",
       "</style>\n",
       "<table border=\"1\" class=\"dataframe\">\n",
       "  <thead>\n",
       "    <tr style=\"text-align: right;\">\n",
       "      <th></th>\n",
       "      <th>0</th>\n",
       "      <th>1</th>\n",
       "      <th>2</th>\n",
       "      <th>3</th>\n",
       "      <th>4</th>\n",
       "      <th>5</th>\n",
       "      <th>6</th>\n",
       "      <th>7</th>\n",
       "      <th>8</th>\n",
       "      <th>9</th>\n",
       "      <th>...</th>\n",
       "      <th>50</th>\n",
       "      <th>51</th>\n",
       "      <th>52</th>\n",
       "      <th>53</th>\n",
       "      <th>54</th>\n",
       "      <th>55</th>\n",
       "      <th>56</th>\n",
       "      <th>57</th>\n",
       "      <th>58</th>\n",
       "      <th>59</th>\n",
       "    </tr>\n",
       "  </thead>\n",
       "  <tbody>\n",
       "    <tr>\n",
       "      <th>RandomForest</th>\n",
       "      <td>0.080000</td>\n",
       "      <td>0.320000</td>\n",
       "      <td>0.080000</td>\n",
       "      <td>0.150000</td>\n",
       "      <td>0.880000</td>\n",
       "      <td>0.930000</td>\n",
       "      <td>0.890000</td>\n",
       "      <td>0.060000</td>\n",
       "      <td>0.050000</td>\n",
       "      <td>0.670000</td>\n",
       "      <td>...</td>\n",
       "      <td>0.730000</td>\n",
       "      <td>0.700000</td>\n",
       "      <td>0.140000</td>\n",
       "      <td>0.800000</td>\n",
       "      <td>0.400000</td>\n",
       "      <td>0.130000</td>\n",
       "      <td>0.780000</td>\n",
       "      <td>0.680000</td>\n",
       "      <td>0.080000</td>\n",
       "      <td>0.650000</td>\n",
       "    </tr>\n",
       "    <tr>\n",
       "      <th>LogisticRegression</th>\n",
       "      <td>0.070233</td>\n",
       "      <td>0.000053</td>\n",
       "      <td>0.014947</td>\n",
       "      <td>0.000045</td>\n",
       "      <td>0.967079</td>\n",
       "      <td>0.943132</td>\n",
       "      <td>0.963135</td>\n",
       "      <td>0.012338</td>\n",
       "      <td>0.001578</td>\n",
       "      <td>0.968635</td>\n",
       "      <td>...</td>\n",
       "      <td>0.864179</td>\n",
       "      <td>0.810013</td>\n",
       "      <td>0.519961</td>\n",
       "      <td>0.943657</td>\n",
       "      <td>0.475844</td>\n",
       "      <td>0.021645</td>\n",
       "      <td>0.904723</td>\n",
       "      <td>0.931817</td>\n",
       "      <td>0.006195</td>\n",
       "      <td>0.879520</td>\n",
       "    </tr>\n",
       "    <tr>\n",
       "      <th>Adaboost</th>\n",
       "      <td>0.338226</td>\n",
       "      <td>0.527157</td>\n",
       "      <td>0.378824</td>\n",
       "      <td>0.355288</td>\n",
       "      <td>0.778440</td>\n",
       "      <td>0.720646</td>\n",
       "      <td>0.746343</td>\n",
       "      <td>0.353102</td>\n",
       "      <td>0.301780</td>\n",
       "      <td>0.639402</td>\n",
       "      <td>...</td>\n",
       "      <td>0.595887</td>\n",
       "      <td>0.418583</td>\n",
       "      <td>0.439721</td>\n",
       "      <td>0.562088</td>\n",
       "      <td>0.418663</td>\n",
       "      <td>0.360189</td>\n",
       "      <td>0.622196</td>\n",
       "      <td>0.638681</td>\n",
       "      <td>0.335020</td>\n",
       "      <td>0.622096</td>\n",
       "    </tr>\n",
       "    <tr>\n",
       "      <th>KNN</th>\n",
       "      <td>0.400000</td>\n",
       "      <td>0.200000</td>\n",
       "      <td>0.000000</td>\n",
       "      <td>0.000000</td>\n",
       "      <td>0.400000</td>\n",
       "      <td>1.000000</td>\n",
       "      <td>1.000000</td>\n",
       "      <td>0.200000</td>\n",
       "      <td>0.400000</td>\n",
       "      <td>0.800000</td>\n",
       "      <td>...</td>\n",
       "      <td>0.800000</td>\n",
       "      <td>0.600000</td>\n",
       "      <td>0.400000</td>\n",
       "      <td>0.400000</td>\n",
       "      <td>0.600000</td>\n",
       "      <td>0.200000</td>\n",
       "      <td>0.800000</td>\n",
       "      <td>0.600000</td>\n",
       "      <td>0.200000</td>\n",
       "      <td>0.400000</td>\n",
       "    </tr>\n",
       "  </tbody>\n",
       "</table>\n",
       "<p>4 rows × 60 columns</p>\n",
       "</div>"
      ],
      "text/plain": [
       "                          0         1         2         3         4   \\\n",
       "RandomForest        0.080000  0.320000  0.080000  0.150000  0.880000   \n",
       "LogisticRegression  0.070233  0.000053  0.014947  0.000045  0.967079   \n",
       "Adaboost            0.338226  0.527157  0.378824  0.355288  0.778440   \n",
       "KNN                 0.400000  0.200000  0.000000  0.000000  0.400000   \n",
       "\n",
       "                          5         6         7         8         9   ...  \\\n",
       "RandomForest        0.930000  0.890000  0.060000  0.050000  0.670000  ...   \n",
       "LogisticRegression  0.943132  0.963135  0.012338  0.001578  0.968635  ...   \n",
       "Adaboost            0.720646  0.746343  0.353102  0.301780  0.639402  ...   \n",
       "KNN                 1.000000  1.000000  0.200000  0.400000  0.800000  ...   \n",
       "\n",
       "                          50        51        52        53        54  \\\n",
       "RandomForest        0.730000  0.700000  0.140000  0.800000  0.400000   \n",
       "LogisticRegression  0.864179  0.810013  0.519961  0.943657  0.475844   \n",
       "Adaboost            0.595887  0.418583  0.439721  0.562088  0.418663   \n",
       "KNN                 0.800000  0.600000  0.400000  0.400000  0.600000   \n",
       "\n",
       "                          55        56        57        58        59  \n",
       "RandomForest        0.130000  0.780000  0.680000  0.080000  0.650000  \n",
       "LogisticRegression  0.021645  0.904723  0.931817  0.006195  0.879520  \n",
       "Adaboost            0.360189  0.622196  0.638681  0.335020  0.622096  \n",
       "KNN                 0.200000  0.800000  0.600000  0.200000  0.400000  \n",
       "\n",
       "[4 rows x 60 columns]"
      ]
     },
     "execution_count": 26,
     "metadata": {},
     "output_type": "execute_result"
    }
   ],
   "source": [
    "p"
   ]
  },
  {
   "cell_type": "code",
   "execution_count": 27,
   "metadata": {},
   "outputs": [],
   "source": [
    "p = p.T"
   ]
  },
  {
   "cell_type": "code",
   "execution_count": 28,
   "metadata": {},
   "outputs": [
    {
     "data": {
      "text/html": [
       "<div>\n",
       "<style scoped>\n",
       "    .dataframe tbody tr th:only-of-type {\n",
       "        vertical-align: middle;\n",
       "    }\n",
       "\n",
       "    .dataframe tbody tr th {\n",
       "        vertical-align: top;\n",
       "    }\n",
       "\n",
       "    .dataframe thead th {\n",
       "        text-align: right;\n",
       "    }\n",
       "</style>\n",
       "<table border=\"1\" class=\"dataframe\">\n",
       "  <thead>\n",
       "    <tr style=\"text-align: right;\">\n",
       "      <th></th>\n",
       "      <th>RandomForest</th>\n",
       "      <th>LogisticRegression</th>\n",
       "      <th>Adaboost</th>\n",
       "      <th>KNN</th>\n",
       "    </tr>\n",
       "  </thead>\n",
       "  <tbody>\n",
       "    <tr>\n",
       "      <th>0</th>\n",
       "      <td>0.08</td>\n",
       "      <td>0.070233</td>\n",
       "      <td>0.338226</td>\n",
       "      <td>0.4</td>\n",
       "    </tr>\n",
       "    <tr>\n",
       "      <th>1</th>\n",
       "      <td>0.32</td>\n",
       "      <td>0.000053</td>\n",
       "      <td>0.527157</td>\n",
       "      <td>0.2</td>\n",
       "    </tr>\n",
       "    <tr>\n",
       "      <th>2</th>\n",
       "      <td>0.08</td>\n",
       "      <td>0.014947</td>\n",
       "      <td>0.378824</td>\n",
       "      <td>0.0</td>\n",
       "    </tr>\n",
       "    <tr>\n",
       "      <th>3</th>\n",
       "      <td>0.15</td>\n",
       "      <td>0.000045</td>\n",
       "      <td>0.355288</td>\n",
       "      <td>0.0</td>\n",
       "    </tr>\n",
       "    <tr>\n",
       "      <th>4</th>\n",
       "      <td>0.88</td>\n",
       "      <td>0.967079</td>\n",
       "      <td>0.778440</td>\n",
       "      <td>0.4</td>\n",
       "    </tr>\n",
       "    <tr>\n",
       "      <th>5</th>\n",
       "      <td>0.93</td>\n",
       "      <td>0.943132</td>\n",
       "      <td>0.720646</td>\n",
       "      <td>1.0</td>\n",
       "    </tr>\n",
       "    <tr>\n",
       "      <th>6</th>\n",
       "      <td>0.89</td>\n",
       "      <td>0.963135</td>\n",
       "      <td>0.746343</td>\n",
       "      <td>1.0</td>\n",
       "    </tr>\n",
       "    <tr>\n",
       "      <th>7</th>\n",
       "      <td>0.06</td>\n",
       "      <td>0.012338</td>\n",
       "      <td>0.353102</td>\n",
       "      <td>0.2</td>\n",
       "    </tr>\n",
       "    <tr>\n",
       "      <th>8</th>\n",
       "      <td>0.05</td>\n",
       "      <td>0.001578</td>\n",
       "      <td>0.301780</td>\n",
       "      <td>0.4</td>\n",
       "    </tr>\n",
       "    <tr>\n",
       "      <th>9</th>\n",
       "      <td>0.67</td>\n",
       "      <td>0.968635</td>\n",
       "      <td>0.639402</td>\n",
       "      <td>0.8</td>\n",
       "    </tr>\n",
       "    <tr>\n",
       "      <th>10</th>\n",
       "      <td>0.10</td>\n",
       "      <td>0.510401</td>\n",
       "      <td>0.389723</td>\n",
       "      <td>0.6</td>\n",
       "    </tr>\n",
       "    <tr>\n",
       "      <th>11</th>\n",
       "      <td>0.26</td>\n",
       "      <td>0.001229</td>\n",
       "      <td>0.315160</td>\n",
       "      <td>0.4</td>\n",
       "    </tr>\n",
       "    <tr>\n",
       "      <th>12</th>\n",
       "      <td>0.69</td>\n",
       "      <td>0.970529</td>\n",
       "      <td>0.707837</td>\n",
       "      <td>0.4</td>\n",
       "    </tr>\n",
       "    <tr>\n",
       "      <th>13</th>\n",
       "      <td>0.91</td>\n",
       "      <td>0.870113</td>\n",
       "      <td>0.768427</td>\n",
       "      <td>0.8</td>\n",
       "    </tr>\n",
       "    <tr>\n",
       "      <th>14</th>\n",
       "      <td>0.13</td>\n",
       "      <td>0.000901</td>\n",
       "      <td>0.359977</td>\n",
       "      <td>0.0</td>\n",
       "    </tr>\n",
       "    <tr>\n",
       "      <th>15</th>\n",
       "      <td>0.07</td>\n",
       "      <td>0.072602</td>\n",
       "      <td>0.382131</td>\n",
       "      <td>0.0</td>\n",
       "    </tr>\n",
       "    <tr>\n",
       "      <th>16</th>\n",
       "      <td>0.73</td>\n",
       "      <td>0.902974</td>\n",
       "      <td>0.642892</td>\n",
       "      <td>0.4</td>\n",
       "    </tr>\n",
       "    <tr>\n",
       "      <th>17</th>\n",
       "      <td>0.98</td>\n",
       "      <td>0.997028</td>\n",
       "      <td>0.795148</td>\n",
       "      <td>1.0</td>\n",
       "    </tr>\n",
       "    <tr>\n",
       "      <th>18</th>\n",
       "      <td>0.46</td>\n",
       "      <td>0.249077</td>\n",
       "      <td>0.420374</td>\n",
       "      <td>0.8</td>\n",
       "    </tr>\n",
       "    <tr>\n",
       "      <th>19</th>\n",
       "      <td>0.94</td>\n",
       "      <td>0.989020</td>\n",
       "      <td>0.726572</td>\n",
       "      <td>1.0</td>\n",
       "    </tr>\n",
       "    <tr>\n",
       "      <th>20</th>\n",
       "      <td>0.09</td>\n",
       "      <td>0.469191</td>\n",
       "      <td>0.347022</td>\n",
       "      <td>0.6</td>\n",
       "    </tr>\n",
       "    <tr>\n",
       "      <th>21</th>\n",
       "      <td>0.07</td>\n",
       "      <td>0.058805</td>\n",
       "      <td>0.456348</td>\n",
       "      <td>0.2</td>\n",
       "    </tr>\n",
       "    <tr>\n",
       "      <th>22</th>\n",
       "      <td>0.90</td>\n",
       "      <td>0.723751</td>\n",
       "      <td>0.661449</td>\n",
       "      <td>1.0</td>\n",
       "    </tr>\n",
       "    <tr>\n",
       "      <th>23</th>\n",
       "      <td>0.99</td>\n",
       "      <td>0.994970</td>\n",
       "      <td>0.795148</td>\n",
       "      <td>1.0</td>\n",
       "    </tr>\n",
       "    <tr>\n",
       "      <th>24</th>\n",
       "      <td>0.06</td>\n",
       "      <td>0.010114</td>\n",
       "      <td>0.357049</td>\n",
       "      <td>0.2</td>\n",
       "    </tr>\n",
       "    <tr>\n",
       "      <th>25</th>\n",
       "      <td>0.76</td>\n",
       "      <td>0.909635</td>\n",
       "      <td>0.685775</td>\n",
       "      <td>0.8</td>\n",
       "    </tr>\n",
       "    <tr>\n",
       "      <th>26</th>\n",
       "      <td>0.70</td>\n",
       "      <td>0.805104</td>\n",
       "      <td>0.473889</td>\n",
       "      <td>0.2</td>\n",
       "    </tr>\n",
       "    <tr>\n",
       "      <th>27</th>\n",
       "      <td>0.11</td>\n",
       "      <td>0.010073</td>\n",
       "      <td>0.327859</td>\n",
       "      <td>0.0</td>\n",
       "    </tr>\n",
       "    <tr>\n",
       "      <th>28</th>\n",
       "      <td>0.92</td>\n",
       "      <td>0.678541</td>\n",
       "      <td>0.519509</td>\n",
       "      <td>1.0</td>\n",
       "    </tr>\n",
       "    <tr>\n",
       "      <th>29</th>\n",
       "      <td>0.08</td>\n",
       "      <td>0.287309</td>\n",
       "      <td>0.398704</td>\n",
       "      <td>0.2</td>\n",
       "    </tr>\n",
       "    <tr>\n",
       "      <th>30</th>\n",
       "      <td>0.78</td>\n",
       "      <td>0.675377</td>\n",
       "      <td>0.618790</td>\n",
       "      <td>0.8</td>\n",
       "    </tr>\n",
       "    <tr>\n",
       "      <th>31</th>\n",
       "      <td>0.83</td>\n",
       "      <td>0.923379</td>\n",
       "      <td>0.580524</td>\n",
       "      <td>0.4</td>\n",
       "    </tr>\n",
       "    <tr>\n",
       "      <th>32</th>\n",
       "      <td>0.76</td>\n",
       "      <td>0.885806</td>\n",
       "      <td>0.729721</td>\n",
       "      <td>0.6</td>\n",
       "    </tr>\n",
       "    <tr>\n",
       "      <th>33</th>\n",
       "      <td>0.17</td>\n",
       "      <td>0.851360</td>\n",
       "      <td>0.440746</td>\n",
       "      <td>0.6</td>\n",
       "    </tr>\n",
       "    <tr>\n",
       "      <th>34</th>\n",
       "      <td>0.72</td>\n",
       "      <td>0.808183</td>\n",
       "      <td>0.648618</td>\n",
       "      <td>0.6</td>\n",
       "    </tr>\n",
       "    <tr>\n",
       "      <th>35</th>\n",
       "      <td>0.95</td>\n",
       "      <td>0.891269</td>\n",
       "      <td>0.536381</td>\n",
       "      <td>0.8</td>\n",
       "    </tr>\n",
       "    <tr>\n",
       "      <th>36</th>\n",
       "      <td>0.04</td>\n",
       "      <td>0.013019</td>\n",
       "      <td>0.373280</td>\n",
       "      <td>0.2</td>\n",
       "    </tr>\n",
       "    <tr>\n",
       "      <th>37</th>\n",
       "      <td>0.11</td>\n",
       "      <td>0.415275</td>\n",
       "      <td>0.455907</td>\n",
       "      <td>0.4</td>\n",
       "    </tr>\n",
       "    <tr>\n",
       "      <th>38</th>\n",
       "      <td>0.83</td>\n",
       "      <td>0.604071</td>\n",
       "      <td>0.492704</td>\n",
       "      <td>0.4</td>\n",
       "    </tr>\n",
       "    <tr>\n",
       "      <th>39</th>\n",
       "      <td>0.73</td>\n",
       "      <td>0.950678</td>\n",
       "      <td>0.716982</td>\n",
       "      <td>0.6</td>\n",
       "    </tr>\n",
       "    <tr>\n",
       "      <th>40</th>\n",
       "      <td>0.10</td>\n",
       "      <td>0.008474</td>\n",
       "      <td>0.367187</td>\n",
       "      <td>0.2</td>\n",
       "    </tr>\n",
       "    <tr>\n",
       "      <th>41</th>\n",
       "      <td>0.14</td>\n",
       "      <td>0.002356</td>\n",
       "      <td>0.522204</td>\n",
       "      <td>0.0</td>\n",
       "    </tr>\n",
       "    <tr>\n",
       "      <th>42</th>\n",
       "      <td>0.06</td>\n",
       "      <td>0.031568</td>\n",
       "      <td>0.346135</td>\n",
       "      <td>0.0</td>\n",
       "    </tr>\n",
       "    <tr>\n",
       "      <th>43</th>\n",
       "      <td>0.02</td>\n",
       "      <td>0.028392</td>\n",
       "      <td>0.326864</td>\n",
       "      <td>0.2</td>\n",
       "    </tr>\n",
       "    <tr>\n",
       "      <th>44</th>\n",
       "      <td>0.08</td>\n",
       "      <td>0.000943</td>\n",
       "      <td>0.367451</td>\n",
       "      <td>0.2</td>\n",
       "    </tr>\n",
       "    <tr>\n",
       "      <th>45</th>\n",
       "      <td>1.00</td>\n",
       "      <td>0.805044</td>\n",
       "      <td>0.718519</td>\n",
       "      <td>1.0</td>\n",
       "    </tr>\n",
       "    <tr>\n",
       "      <th>46</th>\n",
       "      <td>0.06</td>\n",
       "      <td>0.084393</td>\n",
       "      <td>0.337835</td>\n",
       "      <td>0.2</td>\n",
       "    </tr>\n",
       "    <tr>\n",
       "      <th>47</th>\n",
       "      <td>0.22</td>\n",
       "      <td>0.477139</td>\n",
       "      <td>0.388703</td>\n",
       "      <td>0.2</td>\n",
       "    </tr>\n",
       "    <tr>\n",
       "      <th>48</th>\n",
       "      <td>0.84</td>\n",
       "      <td>0.823165</td>\n",
       "      <td>0.744008</td>\n",
       "      <td>0.8</td>\n",
       "    </tr>\n",
       "    <tr>\n",
       "      <th>49</th>\n",
       "      <td>0.10</td>\n",
       "      <td>0.075843</td>\n",
       "      <td>0.399066</td>\n",
       "      <td>0.4</td>\n",
       "    </tr>\n",
       "    <tr>\n",
       "      <th>50</th>\n",
       "      <td>0.73</td>\n",
       "      <td>0.864179</td>\n",
       "      <td>0.595887</td>\n",
       "      <td>0.8</td>\n",
       "    </tr>\n",
       "    <tr>\n",
       "      <th>51</th>\n",
       "      <td>0.70</td>\n",
       "      <td>0.810013</td>\n",
       "      <td>0.418583</td>\n",
       "      <td>0.6</td>\n",
       "    </tr>\n",
       "    <tr>\n",
       "      <th>52</th>\n",
       "      <td>0.14</td>\n",
       "      <td>0.519961</td>\n",
       "      <td>0.439721</td>\n",
       "      <td>0.4</td>\n",
       "    </tr>\n",
       "    <tr>\n",
       "      <th>53</th>\n",
       "      <td>0.80</td>\n",
       "      <td>0.943657</td>\n",
       "      <td>0.562088</td>\n",
       "      <td>0.4</td>\n",
       "    </tr>\n",
       "    <tr>\n",
       "      <th>54</th>\n",
       "      <td>0.40</td>\n",
       "      <td>0.475844</td>\n",
       "      <td>0.418663</td>\n",
       "      <td>0.6</td>\n",
       "    </tr>\n",
       "    <tr>\n",
       "      <th>55</th>\n",
       "      <td>0.13</td>\n",
       "      <td>0.021645</td>\n",
       "      <td>0.360189</td>\n",
       "      <td>0.2</td>\n",
       "    </tr>\n",
       "    <tr>\n",
       "      <th>56</th>\n",
       "      <td>0.78</td>\n",
       "      <td>0.904723</td>\n",
       "      <td>0.622196</td>\n",
       "      <td>0.8</td>\n",
       "    </tr>\n",
       "    <tr>\n",
       "      <th>57</th>\n",
       "      <td>0.68</td>\n",
       "      <td>0.931817</td>\n",
       "      <td>0.638681</td>\n",
       "      <td>0.6</td>\n",
       "    </tr>\n",
       "    <tr>\n",
       "      <th>58</th>\n",
       "      <td>0.08</td>\n",
       "      <td>0.006195</td>\n",
       "      <td>0.335020</td>\n",
       "      <td>0.2</td>\n",
       "    </tr>\n",
       "    <tr>\n",
       "      <th>59</th>\n",
       "      <td>0.65</td>\n",
       "      <td>0.879520</td>\n",
       "      <td>0.622096</td>\n",
       "      <td>0.4</td>\n",
       "    </tr>\n",
       "  </tbody>\n",
       "</table>\n",
       "</div>"
      ],
      "text/plain": [
       "    RandomForest  LogisticRegression  Adaboost  KNN\n",
       "0           0.08            0.070233  0.338226  0.4\n",
       "1           0.32            0.000053  0.527157  0.2\n",
       "2           0.08            0.014947  0.378824  0.0\n",
       "3           0.15            0.000045  0.355288  0.0\n",
       "4           0.88            0.967079  0.778440  0.4\n",
       "5           0.93            0.943132  0.720646  1.0\n",
       "6           0.89            0.963135  0.746343  1.0\n",
       "7           0.06            0.012338  0.353102  0.2\n",
       "8           0.05            0.001578  0.301780  0.4\n",
       "9           0.67            0.968635  0.639402  0.8\n",
       "10          0.10            0.510401  0.389723  0.6\n",
       "11          0.26            0.001229  0.315160  0.4\n",
       "12          0.69            0.970529  0.707837  0.4\n",
       "13          0.91            0.870113  0.768427  0.8\n",
       "14          0.13            0.000901  0.359977  0.0\n",
       "15          0.07            0.072602  0.382131  0.0\n",
       "16          0.73            0.902974  0.642892  0.4\n",
       "17          0.98            0.997028  0.795148  1.0\n",
       "18          0.46            0.249077  0.420374  0.8\n",
       "19          0.94            0.989020  0.726572  1.0\n",
       "20          0.09            0.469191  0.347022  0.6\n",
       "21          0.07            0.058805  0.456348  0.2\n",
       "22          0.90            0.723751  0.661449  1.0\n",
       "23          0.99            0.994970  0.795148  1.0\n",
       "24          0.06            0.010114  0.357049  0.2\n",
       "25          0.76            0.909635  0.685775  0.8\n",
       "26          0.70            0.805104  0.473889  0.2\n",
       "27          0.11            0.010073  0.327859  0.0\n",
       "28          0.92            0.678541  0.519509  1.0\n",
       "29          0.08            0.287309  0.398704  0.2\n",
       "30          0.78            0.675377  0.618790  0.8\n",
       "31          0.83            0.923379  0.580524  0.4\n",
       "32          0.76            0.885806  0.729721  0.6\n",
       "33          0.17            0.851360  0.440746  0.6\n",
       "34          0.72            0.808183  0.648618  0.6\n",
       "35          0.95            0.891269  0.536381  0.8\n",
       "36          0.04            0.013019  0.373280  0.2\n",
       "37          0.11            0.415275  0.455907  0.4\n",
       "38          0.83            0.604071  0.492704  0.4\n",
       "39          0.73            0.950678  0.716982  0.6\n",
       "40          0.10            0.008474  0.367187  0.2\n",
       "41          0.14            0.002356  0.522204  0.0\n",
       "42          0.06            0.031568  0.346135  0.0\n",
       "43          0.02            0.028392  0.326864  0.2\n",
       "44          0.08            0.000943  0.367451  0.2\n",
       "45          1.00            0.805044  0.718519  1.0\n",
       "46          0.06            0.084393  0.337835  0.2\n",
       "47          0.22            0.477139  0.388703  0.2\n",
       "48          0.84            0.823165  0.744008  0.8\n",
       "49          0.10            0.075843  0.399066  0.4\n",
       "50          0.73            0.864179  0.595887  0.8\n",
       "51          0.70            0.810013  0.418583  0.6\n",
       "52          0.14            0.519961  0.439721  0.4\n",
       "53          0.80            0.943657  0.562088  0.4\n",
       "54          0.40            0.475844  0.418663  0.6\n",
       "55          0.13            0.021645  0.360189  0.2\n",
       "56          0.78            0.904723  0.622196  0.8\n",
       "57          0.68            0.931817  0.638681  0.6\n",
       "58          0.08            0.006195  0.335020  0.2\n",
       "59          0.65            0.879520  0.622096  0.4"
      ]
     },
     "execution_count": 28,
     "metadata": {},
     "output_type": "execute_result"
    }
   ],
   "source": [
    "p"
   ]
  },
  {
   "cell_type": "code",
   "execution_count": 29,
   "metadata": {},
   "outputs": [],
   "source": [
    "final_prediction=pd.concat(pred,axis=1).mean(axis=1)"
   ]
  },
  {
   "cell_type": "code",
   "execution_count": 30,
   "metadata": {},
   "outputs": [
    {
     "data": {
      "text/plain": [
       "0     0.222115\n",
       "1     0.261802\n",
       "2     0.118443\n",
       "3     0.126333\n",
       "4     0.756380\n",
       "5     0.898445\n",
       "6     0.899870\n",
       "7     0.156360\n",
       "8     0.188340\n",
       "9     0.769509\n",
       "10    0.400031\n",
       "11    0.244097\n",
       "12    0.692091\n",
       "13    0.837135\n",
       "14    0.122719\n",
       "15    0.131183\n",
       "16    0.668967\n",
       "17    0.943044\n",
       "18    0.482363\n",
       "19    0.913898\n",
       "20    0.376553\n",
       "21    0.196288\n",
       "22    0.821300\n",
       "23    0.945030\n",
       "24    0.156791\n",
       "25    0.788852\n",
       "26    0.544748\n",
       "27    0.111983\n",
       "28    0.779513\n",
       "29    0.241503\n",
       "30    0.718542\n",
       "31    0.683476\n",
       "32    0.743882\n",
       "33    0.515527\n",
       "34    0.694200\n",
       "35    0.794412\n",
       "36    0.156575\n",
       "37    0.345295\n",
       "38    0.581694\n",
       "39    0.749415\n",
       "40    0.168915\n",
       "41    0.166140\n",
       "42    0.109426\n",
       "43    0.143814\n",
       "44    0.162099\n",
       "45    0.880891\n",
       "46    0.170557\n",
       "47    0.321460\n",
       "48    0.801793\n",
       "49    0.243727\n",
       "50    0.747516\n",
       "51    0.632149\n",
       "52    0.374920\n",
       "53    0.676436\n",
       "54    0.473627\n",
       "55    0.177958\n",
       "56    0.776730\n",
       "57    0.712624\n",
       "58    0.155304\n",
       "59    0.637904\n",
       "dtype: float64"
      ]
     },
     "execution_count": 30,
     "metadata": {},
     "output_type": "execute_result"
    }
   ],
   "source": [
    "final_prediction"
   ]
  },
  {
   "cell_type": "code",
   "execution_count": 31,
   "metadata": {},
   "outputs": [
    {
     "name": "stdout",
     "output_type": "stream",
     "text": [
      "0.9558823529411764\n"
     ]
    }
   ],
   "source": [
    "print(roc_auc_score(y_test,final_prediction))"
   ]
  },
  {
   "cell_type": "code",
   "execution_count": 32,
   "metadata": {},
   "outputs": [],
   "source": [
    "## Calculating the Roc curve"
   ]
  },
  {
   "cell_type": "code",
   "execution_count": 34,
   "metadata": {},
   "outputs": [],
   "source": [
    "fpr,tpr,threshold = roc_curve(y_test,final_prediction)"
   ]
  },
  {
   "cell_type": "code",
   "execution_count": 50,
   "metadata": {},
   "outputs": [],
   "source": [
    "def plot_roc_curve(fpr, tpr):\n",
    "    plt.plot(fpr, tpr, color='orange', label='ROC')\n",
    "    plt.plot([0, 1], [0, 1], color='darkblue', linestyle='--')\n",
    "    plt.xlabel('False Positive Rate')\n",
    "    plt.ylabel('True Positive Rate')\n",
    "    plt.title('Receiver Operating Characteristic (ROC) Curve')\n",
    "    plt.legend()"
   ]
  },
  {
   "cell_type": "code",
   "execution_count": 51,
   "metadata": {},
   "outputs": [
    {
     "data": {
      "image/png": "[encoded data removed]",
      "text/plain": [
       "<Figure size 432x288 with 1 Axes>"
      ]
     },
     "metadata": {
      "needs_background": "light"
     },
     "output_type": "display_data"
    }
   ],
   "source": [
    "plot_roc_curve(fpr, tpr)"
   ]
  },
  {
   "cell_type": "markdown",
   "metadata": {},
   "source": [
    "#### Threshold"
   ]
  },
  {
   "cell_type": "code",
   "execution_count": 52,
   "metadata": {},
   "outputs": [
    {
     "data": {
      "text/plain": [
       "array([1.94502961, 0.94502961, 0.80179306, 0.79441234, 0.78885238,\n",
       "       0.77951257, 0.69209142, 0.68347562, 0.54474829, 0.10942583])"
      ]
     },
     "execution_count": 52,
     "metadata": {},
     "output_type": "execute_result"
    }
   ],
   "source": [
    "threshold"
   ]
  },
  {
   "cell_type": "code",
   "execution_count": 53,
   "metadata": {},
   "outputs": [],
   "source": [
    "from sklearn.metrics import accuracy_score"
   ]
  },
  {
   "cell_type": "code",
   "execution_count": 54,
   "metadata": {},
   "outputs": [],
   "source": [
    "accu_ls = []\n",
    "for thres in threshold:\n",
    "    y_pred = np.where(final_prediction>thres,1,0)\n",
    "    accu_ls.append(accuracy_score(y_test,y_pred))"
   ]
  },
  {
   "cell_type": "code",
   "execution_count": 56,
   "metadata": {},
   "outputs": [
    {
     "data": {
      "text/plain": [
       "0    0.566667\n",
       "1    0.566667\n",
       "2    0.700000\n",
       "3    0.716667\n",
       "4    0.700000\n",
       "5    0.716667\n",
       "6    0.850000\n",
       "7    0.866667\n",
       "8    0.933333\n",
       "9    0.450000\n",
       "dtype: float64"
      ]
     },
     "execution_count": 56,
     "metadata": {},
     "output_type": "execute_result"
    }
   ],
   "source": [
    "pd.Series(accu_ls)"
   ]
  },
  {
   "cell_type": "code",
   "execution_count": 57,
   "metadata": {},
   "outputs": [
    {
     "data": {
      "text/plain": [
       "0    1.945030\n",
       "1    0.945030\n",
       "2    0.801793\n",
       "3    0.794412\n",
       "4    0.788852\n",
       "5    0.779513\n",
       "6    0.692091\n",
       "7    0.683476\n",
       "8    0.544748\n",
       "9    0.109426\n",
       "dtype: float64"
      ]
     },
     "execution_count": 57,
     "metadata": {},
     "output_type": "execute_result"
    }
   ],
   "source": [
    "pd.Series(threshold)"
   ]
  },
  {
   "cell_type": "code",
   "execution_count": 62,
   "metadata": {},
   "outputs": [],
   "source": [
    "d = pd.concat([pd.Series(accu_ls),pd.Series(threshold)],axis=1)"
   ]
  },
  {
   "cell_type": "code",
   "execution_count": 67,
   "metadata": {},
   "outputs": [],
   "source": [
    "d.columns=['accuracy','threshold']"
   ]
  },
  {
   "cell_type": "code",
   "execution_count": 72,
   "metadata": {},
   "outputs": [
    {
     "data": {
      "text/html": [
       "<div>\n",
       "<style scoped>\n",
       "    .dataframe tbody tr th:only-of-type {\n",
       "        vertical-align: middle;\n",
       "    }\n",
       "\n",
       "    .dataframe tbody tr th {\n",
       "        vertical-align: top;\n",
       "    }\n",
       "\n",
       "    .dataframe thead th {\n",
       "        text-align: right;\n",
       "    }\n",
       "</style>\n",
       "<table border=\"1\" class=\"dataframe\">\n",
       "  <thead>\n",
       "    <tr style=\"text-align: right;\">\n",
       "      <th></th>\n",
       "      <th>accuracy</th>\n",
       "      <th>threshold</th>\n",
       "    </tr>\n",
       "  </thead>\n",
       "  <tbody>\n",
       "    <tr>\n",
       "      <th>8</th>\n",
       "      <td>0.933333</td>\n",
       "      <td>0.544748</td>\n",
       "    </tr>\n",
       "    <tr>\n",
       "      <th>7</th>\n",
       "      <td>0.866667</td>\n",
       "      <td>0.683476</td>\n",
       "    </tr>\n",
       "    <tr>\n",
       "      <th>6</th>\n",
       "      <td>0.850000</td>\n",
       "      <td>0.692091</td>\n",
       "    </tr>\n",
       "    <tr>\n",
       "      <th>3</th>\n",
       "      <td>0.716667</td>\n",
       "      <td>0.794412</td>\n",
       "    </tr>\n",
       "    <tr>\n",
       "      <th>5</th>\n",
       "      <td>0.716667</td>\n",
       "      <td>0.779513</td>\n",
       "    </tr>\n",
       "    <tr>\n",
       "      <th>2</th>\n",
       "      <td>0.700000</td>\n",
       "      <td>0.801793</td>\n",
       "    </tr>\n",
       "    <tr>\n",
       "      <th>4</th>\n",
       "      <td>0.700000</td>\n",
       "      <td>0.788852</td>\n",
       "    </tr>\n",
       "    <tr>\n",
       "      <th>0</th>\n",
       "      <td>0.566667</td>\n",
       "      <td>1.945030</td>\n",
       "    </tr>\n",
       "    <tr>\n",
       "      <th>1</th>\n",
       "      <td>0.566667</td>\n",
       "      <td>0.945030</td>\n",
       "    </tr>\n",
       "    <tr>\n",
       "      <th>9</th>\n",
       "      <td>0.450000</td>\n",
       "      <td>0.109426</td>\n",
       "    </tr>\n",
       "  </tbody>\n",
       "</table>\n",
       "</div>"
      ],
      "text/plain": [
       "   accuracy  threshold\n",
       "8  0.933333   0.544748\n",
       "7  0.866667   0.683476\n",
       "6  0.850000   0.692091\n",
       "3  0.716667   0.794412\n",
       "5  0.716667   0.779513\n",
       "2  0.700000   0.801793\n",
       "4  0.700000   0.788852\n",
       "0  0.566667   1.945030\n",
       "1  0.566667   0.945030\n",
       "9  0.450000   0.109426"
      ]
     },
     "execution_count": 72,
     "metadata": {},
     "output_type": "execute_result"
    }
   ],
   "source": [
    "d.sort_values(by= 'accuracy',ascending=False)"
   ]
  },
  {
   "cell_type": "markdown",
   "metadata": {},
   "source": [
    "Therefore we consider threshold to be 0.544 to get the maximum accuracy score."
   ]
  },
  {
   "cell_type": "code",
   "execution_count": null,
   "metadata": {},
   "outputs": [],
   "source": []
  }
 ],
 "metadata": {
  "kernelspec": {
   "display_name": "Python 3",
   "language": "python",
   "name": "python3"
  },
  "language_info": {
   "codemirror_mode": {
    "name": "ipython",
    "version": 3
   },
   "file_extension": ".py",
   "mimetype": "text/x-python",
   "name": "python",
   "nbconvert_exporter": "python",
   "pygments_lexer": "ipython3",
   "version": "3.7.6"
  }
 },
 "nbformat": 4,
 "nbformat_minor": 4
}
